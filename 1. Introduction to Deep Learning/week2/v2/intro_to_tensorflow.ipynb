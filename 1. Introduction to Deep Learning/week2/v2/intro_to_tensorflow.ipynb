{
 "cells": [
  {
   "cell_type": "markdown",
   "metadata": {
    "slideshow": {
     "slide_type": "slide"
    }
   },
   "source": [
    "# Intro to TensorFlow\n",
    "\n",
    "This notebook covers the basics of TF and shows you an animation with gradient descent trajectory.\n",
    "<img src=\"images/gradient_descent.png\" style=\"width:50%\">"
   ]
  },
  {
   "cell_type": "markdown",
   "metadata": {},
   "source": [
    "# TensorBoard"
   ]
  },
  {
   "cell_type": "markdown",
   "metadata": {},
   "source": [
    "**Plase note that if you are running on the Coursera platform, you won't be able to access the tensorboard instance due to the network setup there.**\n",
    "\n",
    "Run `tensorboard --logdir=./tensorboard_logs --port=7007` in bash.\n",
    "\n",
    "If you run the notebook locally, you should be able to access TensorBoard on http://127.0.0.1:7007/"
   ]
  },
  {
   "cell_type": "code",
   "execution_count": 1,
   "metadata": {},
   "outputs": [],
   "source": [
    "# Load the TensorBoard notebook extension\n",
    "%load_ext tensorboard"
   ]
  },
  {
   "cell_type": "code",
   "execution_count": 2,
   "metadata": {},
   "outputs": [
    {
     "name": "stdout",
     "output_type": "stream",
     "text": [
      "We're using TF 2.2.0\n"
     ]
    }
   ],
   "source": [
    "import tensorflow as tf\n",
    "import sys\n",
    "sys.path.append(\"../..\")\n",
    "print(\"We're using TF\", tf.__version__)"
   ]
  },
  {
   "cell_type": "code",
   "execution_count": 3,
   "metadata": {},
   "outputs": [
    {
     "name": "stdout",
     "output_type": "stream",
     "text": [
      "rm: cannot remove './tensorboard_logs/': Directory not empty\r\n"
     ]
    }
   ],
   "source": [
    "# Clear any logs from previous runs\n",
    "!rm -rf ./tensorboard_logs/"
   ]
  },
  {
   "cell_type": "markdown",
   "metadata": {},
   "source": [
    "# Warming up\n",
    "For starters, let's implement a python function that computes the sum of squares of numbers from 0 to N-1."
   ]
  },
  {
   "cell_type": "code",
   "execution_count": 4,
   "metadata": {},
   "outputs": [],
   "source": [
    "import numpy as np\n",
    "\n",
    "def sum_python(N):\n",
    "    return np.sum(np.arange(N)**2)"
   ]
  },
  {
   "cell_type": "code",
   "execution_count": 5,
   "metadata": {},
   "outputs": [
    {
     "name": "stdout",
     "output_type": "stream",
     "text": [
      "CPU times: user 0 ns, sys: 2.22 ms, total: 2.22 ms\n",
      "Wall time: 1.86 ms\n"
     ]
    },
    {
     "data": {
      "text/plain": [
       "333328333350000"
      ]
     },
     "execution_count": 5,
     "metadata": {},
     "output_type": "execute_result"
    }
   ],
   "source": [
    "%%time\n",
    "sum_python(10**5)"
   ]
  },
  {
   "cell_type": "markdown",
   "metadata": {},
   "source": [
    "# Tensoflow teaser\n",
    "\n",
    "Doing the very same thing"
   ]
  },
  {
   "cell_type": "code",
   "execution_count": 6,
   "metadata": {},
   "outputs": [
    {
     "name": "stdout",
     "output_type": "stream",
     "text": [
      "CPU times: user 24.9 ms, sys: 174 ms, total: 199 ms\n",
      "Wall time: 669 ms\n"
     ]
    },
    {
     "data": {
      "text/plain": [
       "333328320000000.0"
      ]
     },
     "execution_count": 6,
     "metadata": {},
     "output_type": "execute_result"
    }
   ],
   "source": [
    "%%time\n",
    "# An integer parameter\n",
    "def reduce_sum(N):\n",
    "    return tf.reduce_sum(tf.range(N, dtype='float32')**2)\n",
    "\n",
    "N = 10**5\n",
    "\n",
    "reduce_sum(N).numpy()"
   ]
  },
  {
   "cell_type": "code",
   "execution_count": 7,
   "metadata": {},
   "outputs": [],
   "source": [
    "# logger for tensorboard\n",
    "writer = tf.summary.create_file_writer(\"tensorboard_logs\")"
   ]
  },
  {
   "cell_type": "markdown",
   "metadata": {},
   "source": [
    "# How does it work?\n",
    "1. Define placeholders where you'll send inputs\n",
    "2. Make a symbolic graph: a recipe for mathematical transformation of those placeholders\n",
    "3. Compute outputs of your graph with particular values for each placeholder\n",
    "  * `output.eval({placeholder: value})`\n",
    "  * `s.run(output, {placeholder: value})`\n",
    "\n",
    "So far there are two main entities: \"placeholder\" and \"transformation\" (operation output)\n",
    "* Both can be numbers, vectors, matrices, tensors, etc.\n",
    "* Both can be int32/64, floats, booleans (uint8) of various size.\n",
    "\n",
    "* You can define new transformations as an arbitrary operation on placeholders and other transformations\n",
    " * `tf.reduce_sum(tf.arange(N)**2)` are 3 sequential transformations of placeholder `N`\n",
    " * There's a tensorflow symbolic version for every numpy function\n",
    "   * `a+b, a/b, a**b, ...` behave just like in numpy\n",
    "   * `np.mean` -> `tf.reduce_mean`\n",
    "   * `np.arange` -> `tf.range`\n",
    "   * `np.cumsum` -> `tf.cumsum`\n",
    "   * If you can't find the operation you need, see the [docs](https://www.tensorflow.org/versions/r1.3/api_docs/python).\n",
    "   \n",
    "`tf.contrib` has many high-level features, may be worth a look."
   ]
  },
  {
   "cell_type": "code",
   "execution_count": 8,
   "metadata": {},
   "outputs": [],
   "source": [
    "with tf.name_scope(\"Placeholders_examples\"):\n",
    "    # Default placeholder that can be arbitrary float32\n",
    "    # scalar, vertor, matrix, etc.\n",
    "    arbitrary_input = tf.keras.backend.placeholder(dtype = 'float32')\n",
    "\n",
    "    # Input vector of arbitrary length\n",
    "    input_vector = tf.keras.backend.placeholder(dtype = 'float32', shape=(None,))\n",
    "\n",
    "    # Input vector that _must_ have 10 elements and integer type\n",
    "    fixed_vector = tf.keras.backend.placeholder(dtype = 'int32', shape=(10,))\n",
    "\n",
    "    # Matrix of arbitrary n_rows and 15 columns\n",
    "    # (e.g. a minibatch of your data table)\n",
    "    input_matrix = tf.keras.backend.placeholder(dtype = 'float32', shape=(None, 15))\n",
    "    \n",
    "    # You can generally use None whenever you don't need a specific shape\n",
    "    input1 = tf.keras.backend.placeholder(dtype = 'float64', shape=(None, 100, None))\n",
    "    input2 = tf.keras.backend.placeholder(dtype = 'int32', shape=(None, None, 3, 224, 224))\n",
    "\n",
    "    # elementwise multiplication\n",
    "    double_the_vector = input_vector*2\n",
    "\n",
    "    # elementwise cosine\n",
    "    elementwise_cosine = tf.cos(input_vector)\n",
    "\n",
    "    # difference between squared vector and vector itself plus one\n",
    "    vector_squares = input_vector**2 - input_vector + 1"
   ]
  },
  {
   "cell_type": "code",
   "execution_count": 9,
   "metadata": {},
   "outputs": [
    {
     "name": "stdout",
     "output_type": "stream",
     "text": [
      "[0. 1. 2. 3. 4.]\n",
      "tf.Tensor([0.        1.6291324 2.0950115 2.6289961 0.       ], shape=(5,), dtype=float32)\n"
     ]
    }
   ],
   "source": [
    "def transformation(vector1, vector2):\n",
    "    return vector1 * vector2 / (tf.sin(vector1) + 1)\n",
    "\n",
    "my_vector = tf.keras.backend.placeholder(dtype = 'float32', shape=(None,), name=\"VECTOR_1\")\n",
    "\n",
    "dummy = np.arange(5).astype('float32')\n",
    "print(dummy)\n",
    "my_vector = transformation(dummy, dummy[::-1])\n",
    "print(my_vector)"
   ]
  },
  {
   "cell_type": "code",
   "execution_count": 10,
   "metadata": {},
   "outputs": [],
   "source": [
    "with writer.as_default():\n",
    "    for step in range(100):\n",
    "        # other model code would go here\n",
    "        tf.summary.scalar(\"my_metric\", 0.5, step=step)\n",
    "        writer.flush()"
   ]
  },
  {
   "cell_type": "markdown",
   "metadata": {},
   "source": [
    "TensorBoard allows writing scalars, images, audio, histogram. You can read more on tensorboard usage [here](https://www.tensorflow.org/get_started/graph_viz)."
   ]
  },
  {
   "cell_type": "markdown",
   "metadata": {},
   "source": [
    "# Summary\n",
    "* Tensorflow is based on computation graphs\n",
    "* A graph consists of placeholders and transformations"
   ]
  },
  {
   "cell_type": "markdown",
   "metadata": {},
   "source": [
    "# Loss function: Mean Squared Error\n",
    "\n",
    "Loss function must be a part of the graph as well, so that we can do backpropagation."
   ]
  },
  {
   "cell_type": "code",
   "execution_count": 11,
   "metadata": {},
   "outputs": [],
   "source": [
    "@tf.function\n",
    "def compute_mse(y_true, y_predicted):\n",
    "    y_true = tf.dtypes.cast(y_true, tf.float32)\n",
    "    y_predicted = tf.dtypes.cast(y_predicted, tf.float32)\n",
    "    return tf.cast(tf.reduce_mean(tf.square(y_true - y_predicted)), dtype = 'float32', name='MSE')"
   ]
  },
  {
   "cell_type": "code",
   "execution_count": 12,
   "metadata": {},
   "outputs": [],
   "source": [
    "with writer.as_default():\n",
    "    for step in range(100):\n",
    "        # other model code would go here\n",
    "        tf.summary.scalar(\"my_metric\", 0.5, step=step)\n",
    "        writer.flush()"
   ]
  },
  {
   "cell_type": "code",
   "execution_count": 13,
   "metadata": {},
   "outputs": [],
   "source": [
    "# Rigorous local testing of MSE implementation\n",
    "import sklearn.metrics\n",
    "for n in [1, 5, 10, 10**3]:\n",
    "    elems = [np.arange(n), np.arange(n, 0, -1), np.zeros(n),\n",
    "             np.ones(n), np.random.random(n), np.random.randint(100, size=n)]\n",
    "    for el in elems:\n",
    "        for el_2 in elems:\n",
    "            true_mse = np.array(sklearn.metrics.mean_squared_error(el, el_2))\n",
    "            my_mse = compute_mse(el, el_2)\n",
    "            if not np.allclose(true_mse, my_mse):\n",
    "                print('mse(%s,%s)' % (el, el_2))\n",
    "                print(\"should be: %f, but your function returned %f\" % (true_mse, my_mse))\n",
    "                raise ValueError('Wrong result')"
   ]
  },
  {
   "cell_type": "markdown",
   "metadata": {},
   "source": [
    "# Variables\n",
    "\n",
    "Placeholder and transformation values are not stored in the graph once the execution is finished. This isn't too comfortable if you want your model to have parameters (e.g. network weights) that are always present, but can change their value over time.\n",
    "\n",
    "Tensorflow solves this with `tf.Variable` objects.\n",
    "* You can assign variable a value at any time in your graph\n",
    "* Unlike placeholders, there's no need to explicitly pass values to variables when `s.run(...)`-ing\n",
    "* You can use variables the same way you use transformations \n",
    " "
   ]
  },
  {
   "cell_type": "code",
   "execution_count": 14,
   "metadata": {},
   "outputs": [],
   "source": [
    "# Creating a shared variable\n",
    "shared_vector_1 = tf.Variable(initial_value=np.ones(5),\n",
    "                              name=\"example_variable\")"
   ]
  },
  {
   "cell_type": "code",
   "execution_count": 15,
   "metadata": {},
   "outputs": [
    {
     "name": "stdout",
     "output_type": "stream",
     "text": [
      "Initial value [1. 1. 1. 1. 1.]\n"
     ]
    }
   ],
   "source": [
    "print(\"Initial value\", shared_vector_1.numpy())"
   ]
  },
  {
   "cell_type": "code",
   "execution_count": 16,
   "metadata": {},
   "outputs": [
    {
     "name": "stdout",
     "output_type": "stream",
     "text": [
      "New value [0. 1. 2. 3. 4.]\n"
     ]
    }
   ],
   "source": [
    "# Setting a new value\n",
    "shared_vector_1.assign(np.arange(5))\n",
    "\n",
    "# Getting that new value\n",
    "print(\"New value\", shared_vector_1.numpy())"
   ]
  },
  {
   "cell_type": "markdown",
   "metadata": {},
   "source": [
    "# tf.gradients - why graphs matter\n",
    "* Tensorflow can compute derivatives and gradients automatically using the computation graph\n",
    "* True to its name it can manage matrix derivatives\n",
    "* Gradients are computed as a product of elementary derivatives via the chain rule:\n",
    "\n",
    "$$ {\\partial f(g(x)) \\over \\partial x} = {\\partial f(g(x)) \\over \\partial g(x)}\\cdot {\\partial g(x) \\over \\partial x} $$\n",
    "\n",
    "It can get you the derivative of any graph as long as it knows how to differentiate elementary operations"
   ]
  },
  {
   "cell_type": "code",
   "execution_count": 17,
   "metadata": {},
   "outputs": [],
   "source": [
    "def gradientScalar(my_scalar):\n",
    "    with tf.GradientTape() as g:\n",
    "        g.watch(my_scalar)\n",
    "        scalar_squared = my_scalar**2\n",
    "        # A derivative of scalar_squared by my_scalar\n",
    "    return g.gradient(scalar_squared, [my_scalar, ])"
   ]
  },
  {
   "cell_type": "code",
   "execution_count": 18,
   "metadata": {},
   "outputs": [
    {
     "data": {
      "image/png": "[encoded data removed]",
      "text/plain": [
       "<Figure size 432x288 with 1 Axes>"
      ]
     },
     "metadata": {
      "needs_background": "light"
     },
     "output_type": "display_data"
    }
   ],
   "source": [
    "import matplotlib.pyplot as plt\n",
    "%matplotlib inline\n",
    "\n",
    "x = tf.linspace(-3.0, 3.0, 100)\n",
    "x_squared, x_squared_der = [x**2, gradientScalar(x)[0]]\n",
    "\n",
    "plt.plot(x, x_squared,label=\"$x^2$\")\n",
    "plt.plot(x, x_squared_der, label=r\"$\\frac{dx^2}{dx}$\")\n",
    "plt.legend();"
   ]
  },
  {
   "cell_type": "markdown",
   "metadata": {},
   "source": [
    "# Why that rocks"
   ]
  },
  {
   "cell_type": "code",
   "execution_count": 19,
   "metadata": {
    "scrolled": true
   },
   "outputs": [],
   "source": [
    "def gradientScalar(my_scalar, my_vector):\n",
    "    with tf.GradientTape(persistent=True) as g:\n",
    "        g.watch(my_scalar)\n",
    "        weird_psychotic_function = tf.reduce_mean(\n",
    "            (my_vector + my_scalar)**(1 + tf.nn.moments(my_vector,[0])[1]) + \n",
    "            1./ tf.atan(my_scalar))/(my_scalar**2 + 1) + 0.01*tf.sin(\n",
    "            2*my_scalar**1.5)*(tf.reduce_sum(my_vector)* my_scalar**2\n",
    "                              )*tf.exp((my_scalar-4)**2)/(\n",
    "            1+tf.exp((my_scalar-4)**2))*(1.-(tf.exp(-(my_scalar-4)**2)\n",
    "                                            )/(1+tf.exp(-(my_scalar-4)**2)))**2\n",
    "        \n",
    "    return g.gradient(weird_psychotic_function, my_scalar), weird_psychotic_function\n",
    "\n",
    "def gradientVector(my_scalar, my_vector):\n",
    "    with tf.GradientTape() as g:\n",
    "        g.watch(my_vector)\n",
    "        weird_psychotic_function = tf.reduce_mean(\n",
    "            (my_vector + my_scalar)**(1 + tf.nn.moments(my_vector,[0])[1]) + \n",
    "            1./ tf.atan(my_scalar))/(my_scalar**2 + 1) + 0.01*tf.sin(\n",
    "            2*my_scalar**1.5)*(tf.reduce_sum(my_vector)* my_scalar**2\n",
    "                              )*tf.exp((my_scalar-4)**2)/(\n",
    "            1+tf.exp((my_scalar-4)**2))*(1.-(tf.exp(-(my_scalar-4)**2)\n",
    "                                            )/(1+tf.exp(-(my_scalar-4)**2)))**2\n",
    "        \n",
    "    return g.gradient(weird_psychotic_function, my_vector), weird_psychotic_function"
   ]
  },
  {
   "cell_type": "code",
   "execution_count": 20,
   "metadata": {},
   "outputs": [
    {
     "data": {
      "image/png": "[encoded data removed]",
      "text/plain": [
       "<Figure size 432x288 with 1 Axes>"
      ]
     },
     "metadata": {
      "needs_background": "light"
     },
     "output_type": "display_data"
    }
   ],
   "source": [
    "# Plotting the derivative\n",
    "scalar_space = tf.linspace(1.0, 7.0, 100)\n",
    "my_vector = tf.constant([1.0, 2.0, 3.0])\n",
    "y_der_by_scalar = []\n",
    "func = []\n",
    "\n",
    "for x in scalar_space:\n",
    "    df_dy, y = gradientScalar(x, my_vector)\n",
    "    y_der_by_scalar.append(df_dy)\n",
    "    func.append(y)\n",
    "\n",
    "y_der_by_scalar = tf.stack(y_der_by_scalar)\n",
    "func = tf.stack(func)\n",
    "\n",
    "plt.plot(scalar_space, func, label='function')\n",
    "plt.plot(scalar_space, y_der_by_scalar, label='derivative')\n",
    "plt.grid()\n",
    "plt.legend();"
   ]
  },
  {
   "cell_type": "markdown",
   "metadata": {},
   "source": [
    "# Almost done - optimizers\n",
    "\n",
    "While you can perform gradient descent by hand with automatic gradients from above, tensorflow also has some optimization methods implemented for you. Recall momentum & rmsprop?"
   ]
  },
  {
   "cell_type": "code",
   "execution_count": 21,
   "metadata": {},
   "outputs": [],
   "source": [
    "y_guess = tf.Variable(np.zeros(2, dtype='float32'))\n",
    "y_true = tf.range(1, 3, dtype='float32')\n",
    "\n",
    "loss = lambda: tf.reduce_mean((y_guess - y_true + 0.5*tf.random.normal([2]))**2)\n",
    "\n",
    "def step():\n",
    "    tf.keras.optimizers.SGD(learning_rate=0.03, momentum=0.5).minimize(loss, var_list=y_guess)"
   ]
  },
  {
   "cell_type": "markdown",
   "metadata": {},
   "source": [
    "Let's draw a trajectory of a gradient descent in 2D"
   ]
  },
  {
   "cell_type": "code",
   "execution_count": 22,
   "metadata": {},
   "outputs": [
    {
     "data": {
      "image/png": "[encoded data removed]",
      "text/plain": [
       "<Figure size 432x288 with 1 Axes>"
      ]
     },
     "metadata": {
      "needs_background": "light"
     },
     "output_type": "display_data"
    }
   ],
   "source": [
    "from matplotlib import animation, rc\n",
    "import matplotlib_utils\n",
    "from IPython.display import HTML, display_html\n",
    "\n",
    "# nice figure settings\n",
    "fig, ax = plt.subplots()\n",
    "y_true_value = y_true\n",
    "level_x = np.arange(0, 2, 0.02)\n",
    "level_y = np.arange(0, 3, 0.02)\n",
    "X, Y = np.meshgrid(level_x, level_y)\n",
    "Z = (X - y_true_value[0])**2 + (Y - y_true_value[1])**2\n",
    "ax.set_xlim(-0.02, 2)\n",
    "ax.set_ylim(-0.02, 3)\n",
    "ax.scatter(*y_true, c='red')\n",
    "contour = ax.contour(X, Y, Z, 10)\n",
    "ax.clabel(contour, inline=1, fontsize=10)\n",
    "line, = ax.plot([], [], lw=2)\n",
    "\n",
    "# start animation with empty trajectory\n",
    "def init():\n",
    "    line.set_data([], [])\n",
    "    return (line,)\n",
    "\n",
    "trajectory = [y_guess.numpy()]\n",
    "# one animation step (make one GD step)\n",
    "def animate(i):\n",
    "    step()\n",
    "    trajectory.append(y_guess.numpy())\n",
    "    line.set_data(*zip(*trajectory))\n",
    "    return (line,)\n",
    "\n",
    "anim = animation.FuncAnimation(fig, animate, init_func=init,\n",
    "                               frames=100, interval=20, blit=True)"
   ]
  },
  {
   "cell_type": "code",
   "execution_count": 23,
   "metadata": {},
   "outputs": [
    {
     "data": {
      "text/html": [
       "<video width=\"432\" height=\"288\" controls autoplay loop>\n",
       "  <source type=\"video/mp4\" src=\"data:video/mp4;base64,AAAAHGZ0eXBNNFYgAAACAGlzb21pc28yYXZjMQAAAAhmcmVlAABK1W1kYXQAAAKgBgX//5zcRem9\n",
       "5tlIt5Ys2CDZI+7veDI2NCAtIGNvcmUgMTU3IC0gSC4yNjQvTVBFRy00IEFWQyBjb2RlYyAtIENv\n",
       "cHlsZWZ0IDIwMDMtMjAxOCAtIGh0dHA6Ly93d3cudmlkZW9sYW4ub3JnL3gyNjQuaHRtbCAtIG9w\n",
       "dGlvbnM6IGNhYmFjPTEgcmVmPTMgZGVibG9jaz0xOjA6MCBhbmFseXNlPTB4MzoweDExMyBtZT1o\n",
       "ZXggc3VibWU9NyBwc3k9MSBwc3lfcmQ9MS4wMDowLjAwIG1peGVkX3JlZj0xIG1lX3JhbmdlPTE2\n",
       "IGNocm9tYV9tZT0xIHRyZWxsaXM9MSA4eDhkY3Q9MSBjcW09MCBkZWFkem9uZT0yMSwxMSBmYXN0\n",
       "X3Bza2lwPTEgY2hyb21hX3FwX29mZnNldD0tMiB0aHJlYWRzPTYgbG9va2FoZWFkX3RocmVhZHM9\n",
       "MSBzbGljZWRfdGhyZWFkcz0wIG5yPTAgZGVjaW1hdGU9MSBpbnRlcmxhY2VkPTAgYmx1cmF5X2Nv\n",
       "bXBhdD0wIGNvbnN0cmFpbmVkX2ludHJhPTAgYmZyYW1lcz0zIGJfcHlyYW1pZD0yIGJfYWRhcHQ9\n",
       "MSBiX2JpYXM9MCBkaXJlY3Q9MSB3ZWlnaHRiPTEgb3Blbl9nb3A9MCB3ZWlnaHRwPTIga2V5aW50\n",
       "PTI1MCBrZXlpbnRfbWluPTI1IHNjZW5lY3V0PTQwIGludHJhX3JlZnJlc2g9MCByY19sb29rYWhl\n",
       "YWQ9NDAgcmM9Y3JmIG1idHJlZT0xIGNyZj0yMy4wIHFjb21wPTAuNjAgcXBtaW49MCBxcG1heD02\n",
       "OSBxcHN0ZXA9NCBpcF9yYXRpbz0xLjQwIGFxPTE6MS4wMACAAAAyEGWIhAAv//72rvzLK0cLlS4d\n",
       "WXuzUfLoSXL9iDB9aAAAAwAA1WshfKGCVVAY4OQpfFAvedMJ0Dm5sS6TEnk3difoO7J6M7UHMoQC\n",
       "7SDcOVGjTItyhp18FcAAFYwPa7PtpoPe/Zp+iT+SjpnwgpLMZBFpwalYsUpWrMy7YhF3ikv6SSso\n",
       "GWurELpGeNLCX5uVpAt9W/yLRiK06vqHZzwQ1E82y9rnZNvAyNek4Lpwzr8ud5k6hMNb/zYynk9Y\n",
       "KphfQMtIxexB0gujNY6iYWhgPtiO7IlN7W4c5vve5IYoacOOxWc3/0r97oP4xn4lPfXJop+Kzzx/\n",
       "6jUbZTbw8Qh2hGXxiSrM9hYLN89zpIniVwUZvm0Q12TETt7D+0fR+JaGJD06667FcEODokDAFA/i\n",
       "8/rugVfifDKumAcys/jnjlqPg+YVtzVV1ONYUR8sZ6AKXArQaa/cAUQmi9ctHxPinhcMaJpDKjjW\n",
       "TN56u+DAilp3QQ14lKSuh74a6PLMM8p75D4AVacVqEtRgtRInzYjvf3KxqErTyIZrnxE2+nEHMTQ\n",
       "5P0/83qSK+/1MCJFmRmLiExHNTyW/+oaSZf2Vvzf1XhBfl9k1wl/l8tieRzokvwXn5DB6E/UUxRw\n",
       "4vdRm5lIr9xdO0KbjyUQpCSc/8E6FRriknLVn+n+/TzewiF7xntks+U3luvECJe1d7FQOKi1HIVw\n",
       "5rMeYCrMEqJkxNuuIb1/NhwwYq7S4PxXLPWbWGuCetbm9e5und1S1E65DbS5JFqylKjLdpt1LyOq\n",
       "9mAk7ZFcnc2UFMLiu0Om2VHWOrGBSSkP+JBletVcldcDLeBAi+1Y/RLA1kFo+1ziURPkUABGqnOC\n",
       "oGuXTE6hHIyj66vZSTS0fvzv6QblFhk/O5+FzSeWp0z8smXx8ZDb5kJhA0rS0j/zMVuaUtv2wJBI\n",
       "GcwfkA6D1y4MvvrrwzhV40ViDN2UXg9Uegk/dL7+E572BBMWXbiptfib1H628cGHAKwvnxWXnNxE\n",
       "J1KfkcAOHijGOy0G/VZx973FcuK6/7UxBMTrJb6NtTO4CR0kQRB3Na4Z51Rq+DPcLaJxyAKE2ojl\n",
       "6g0LneG7/tlzXBKYh+UTAAdkH17ZGAXoxqGHTPpKgVMyHLCZpLM+l34y4QH06vRjt0bthLfS9/Ja\n",
       "YkAmFyR+76CCdcJsgz7hydvJV91WNUIZACqAXcC7edb/ZuWrE40C0IcjSESGZUjA86AF858cIcL1\n",
       "bPC+10xfmafeR+Gq9loFRlhT/EM/tyIjFdypv4zv+QcsRN0uYgxVQn24VjVy7ESlwb9BwP1Yx4lk\n",
       "LhjLlkIAdXVbKqnb1andQaMy75AoXx5MkZ8YAhM4ViSggsXcveW+AspaLo/mOxCxIlHQ8EQvk6gL\n",
       "b3xr0uFtaMdPFM2/wD/tn03WCzd5JtrXbsELCcXC+jIjHehyKJjW4lQTD/AV+wqVBin0r9my9+xM\n",
       "pZ9irGxR/ma+JtPZzcibuO2eIzJxRJJEs6m8h1aY+hQtqqYnPtlq5QiqrRqbj20HinmyRlxcVO/i\n",
       "Of6JvkxUBXXBsSyxSg4V0Y+gir44U+9l2wzjN5z5mqATe+UzOymCudlXttm00D3OhO5/VY0V7kZf\n",
       "8nsviZe8DoJpOnUi6Kp72vftPt4psiJ0j5Al+HgXIssdGVezxIUKREaLopC1CstttrKf6n8A05HL\n",
       "uDLx0ubEykisQimremnKE/yeZK9b1i7U0gmRaycu+h1C4OzDiy96ggUjMhPomD1/eg7O0C89mUBC\n",
       "gC4ZfO7hMKfQF4hzD2ZjQkfWalkxd2aB5nsj5NFlKEkYlWgpfGpDVv2+cxhGVGZIVyuTPl/6F/q1\n",
       "aBhviWAGWt7vyElbdeaoBrai6jIQjSitveLHA+fVKH+C1iSyvRY8SkWTv+dXfwLwxB46KBXp6Xm3\n",
       "sVVHoDVXt9QYMHMcZEW08z5t7rspmWGcHvHbY5RbxZhyGc88j4cs/UYNBuqkr0Q0rO4A5vHn/NLH\n",
       "D5I0xPjCzVW3WSxtMeWIHYNBy8+EQiQmsOLlpfGZHyYUQlij57TVmhSJSfLS44OwFsXRg/7ocZnt\n",
       "CUTzGbrAqLL6Nr3/rk448WP1Pvrf8X4VkidGhe5gQDP50oPontbM4sKuMFqhy6F4jAWxZNx1ZyWY\n",
       "EMfFJkhBDVmiVLkW90rRz+wFcc7jq68Xfgci2p3qsyCUjf0oYpqaIhnMQjGGRyP24xwrTez/eAH9\n",
       "pc2GntcbsT11RVqlg+vPZy0QDzcRMne1lgsjI/lcb5iuyPBb7/2I0nJV07xsR84+LZMGGQ6vUyGJ\n",
       "ZWoQvEKb1qbsyes0Yh24TZAkAxRixkDLImho4szyhrqT2OZghNm8FMGnGqv8wavmkNMzRG2JCvjY\n",
       "PVyhqmOHmjD9DgSllqbpFyFwznzsA7AUUfjywRTu72WTB8mYukafq6mTVi9rEBVu7oEJTXf5qsHk\n",
       "NAIFQhNI9A8aGckAxGnPQUcCDlCDLcf8SF40rHucpDqvERrwtsLl7dzuPeNaxj3wMobsGNqBCLMU\n",
       "RKPnh1iwK5UHwU7ABrOIu3SKX4unGGhDaECqv7HmaRCR0WKgJAVtvr0Bu5nKnrTb0cqNSTkkzZiU\n",
       "aQyBWJYKocvo1Fp4RH5DyHnB2azg14mmTO73uXLem6VNyOqQx9i4oqb5pugklSw/vUjbtTIvi6qT\n",
       "1QY9Eb4y1NhR7cfInsJFyn/JwRyD0iKWisvUJdsetfZ81Hgjy54KQWHiXfgPB6FDA9Q9EesOh8d6\n",
       "Xy6IUXmYj+z1l0uIxequegXR+8lunzlJQQ0cMftCVFkw/MqPW+klaOPaMUkZuIT8xhUTq0G3RSXI\n",
       "jR7+8Z6vqNtxOjEFElvtt3kZmE4Z8059UoIlPLCC3kBITBqZrcv3DMrDDk/J7+NYeosOhssS3rH7\n",
       "gxhAWjcV6Kgobn3kI4IfZy34PgBBdmxA7doPo12cZ3JZ6ukRfGZsbeUCw34w3zLONYePmoNfxfz9\n",
       "e1Vr4flBG9TYwoW7FCF6V4cF56jbCHJN4t3OH07EZKh9lbLR05u6pgUk0U+YQH8HSgt+Xk3q/P7p\n",
       "/20Ova3aGdEiMjQVpZ2BBOzAr0NxIfw5DX0pYHnsBAimTpPJbQWt1TlS243NSY2u1GtECaLEi1iE\n",
       "/Q6DK81t64clPj9wPiiQ+/yC3y8OVPhpfP2vAHOiPwzW89v2X3KHCE+NNXJjCyxC739+xxZtr+88\n",
       "9YS8ZRL4nVPbrr5FNt9blJCc7HIzkE+1b0oIkcceBnxl3U0iuUqdDp+/Uph0EJ5Gilf89hoxArn0\n",
       "X9kWd/G69EAIU24uA02XEmo9EhFbTRKMaxlkqAv9KfkGy3yd275lthbYk3VJllCevg9Aj0XexFnQ\n",
       "1NY/NvrI9+JZ22FmgXmRiY6kbpK6yzyBsxyBTgO+Jru2UIhJX+0n2PPU0finpCDfnef+DbFu6GSW\n",
       "cjCKPouHwDvTHMRze/8eU4A1tQtFYyvSzNifSQMDQ+v/A1EELGdhpA8hDSYvDvFy4HE9TS/r6eS3\n",
       "e3IHjjzSLn/vyuCYtgpvzF/RD0eaFWjYK3FriejADavTTRYhfQDj5k5M0r/a972P1a7TGBiIrDgS\n",
       "YrvIqc4gJZyRjqsvw6e4nVFjEIyCz6iW1pVN5ImpKnQ61yn3FVOfvyzbNcCP5frOmMP0r84w2QGp\n",
       "0Ml5tinh/kCBwIergtOITU9tyxA73u3Jb7prPFDFN7WzfPAEQ9fjdYTzAEVVkvfvtE/ha4Ph/DuJ\n",
       "tj1TZ8htQErcM/WHtAYd30vWeAVcUICU9j99iDHw/ianjTS565QSo/NZGv80lZj5edIVs9nPYI3y\n",
       "C7+DzdOgC6in15jEX5A1EO0CtE4Ee4Mut13hicFgPtcdBRIk9VnXmM4d8jwy0HWDevy60+JEEHiZ\n",
       "JjpafCtulTwdaoazunX/b1ErDrywcHr5QC8wYLpN17g0TZ9FgtynUM09TDLhPfWPEstVa4nJeb5m\n",
       "d6YhBKP/+GHJ+1B12EC83pzFflep0+D+9BA81qVK5qtgJ9sir+muCQ8VGWdDAqwG2HEEaM8Plryi\n",
       "NRLGj89q//pPhZLyieFC8QbYKOoYABXqvqquXxvWOZO5R8TubMF7HQprulz0uIfzq6si21l+VQBk\n",
       "TMsdODuSZLyn1DjaP8jdPHo1Cd6kxQryRu3jDDxbptDkviiI6QIAQ07RqKHg7/WRclD5m9uDjOjX\n",
       "rLRH4jGUrr3eMCAn3he1qlTSGZEdNyri8uqD5yZJVyaGSUgfJeSAW49/7UYkH2jXZCUES/7WopkH\n",
       "48OGVLy0Jf4F3viemRe8MHryJiyPfMHVuTUImG2Ygx7zamySRnhDe5Ub9z+EzQcaivBrXDlv55DE\n",
       "mugcQhOU7XCqJNgLxFQz4gr0qyKH3H0ylc3LdzUfDjeHyGWTuhXTadGSQw5DDQNtBJMTYhuG6xyq\n",
       "52t2cJ9rh+i84UQLNlgcnkIecTBI4EkFw4cJ0w0ainWE2kaZYD1smz9Acc+dZl5XooARvyiAoYyK\n",
       "N18IEUuAkKqXltPJj0Cox54l3IsyIYoty0sKUvPmNTYbWBzBpKVT5ReHbW1kcbAu3GGVGup57PYp\n",
       "TFsFNDfwCL/Y0/OYji+WfwfONZh4LaJeJw1ZK/dMD/HOvKhpY/t8FJ8qzKCp1yOi8/gLV//OKO3I\n",
       "DcxhfgO5tTOdsPg1fxu5Fq2hpHgdbnvYNrh7O5DSAhjA4hjnYCTPRguLHvwf9UbL1SruzC3VkvAL\n",
       "UfzMZu2EnAXYW7j3GYxRaY7/vPkejsS68V1eU6TvtuAZJbt3EhGMAFwj6AGmmoZxCD/fooRZ/+W9\n",
       "CH8HP1kboX63z6a6d2Yd/LqfaxNM+FdHIbW+eukE8PvZpTEKo4m09JJlY6KFp1PwBtKOLCNS/z7Q\n",
       "Di4YnGOQn5pLBC8fBQ3j1RCZGLEJR9VziI1P/pzrwf+J/qvFas8rW4Mw7Zwem/DrB/z4+KR6Efse\n",
       "/obM6fxslVRFNOyumTallFAHW1StTWJZHFNvDEFqKk3GFaBkAN/pCj/161zneJ/vs3ivx6yxpl3i\n",
       "MAA7FuoLxrgYc2lu1B9h5vud8XjsvKTaRb8xzma2IhTtQopn6pK++z/alF8PtWXazO9UIHLa+3Hs\n",
       "uGlD82jSdm+LrmlxENNkm8BBzlbVr1HNB8ap3dGhodMTTt8patZuimphtaDrJipP8poIsvBNpbEY\n",
       "hGwK4Dj7laRkQFw/W9vdhh3Hn9K8V70o6632eAOmMmS7wF+ukOy38sDvUNJuq5gHXw1oEKJj38BL\n",
       "O1ePpdfQWKTruxVO0HOnhp8U5cuZQO21bEhA5mNzNackX3LKUf6JZEsV9kFF7bWR5sEyOxjNTwKs\n",
       "bF03PtH4F2+kNivS1VFyzynSqneK4+0IOEfDy9NlBAACEQrleuZiPJfBkL06gsyJHCxmHWzfH+fr\n",
       "FZmR1fwjwl7qi5QcljK7n+blV1R7FxyvBrarC24S0mvkt+ICMMGF1A1IOQEyNmUdqU9gmIygdjGa\n",
       "M8zE5rgyMGDJ+6k/KS9na7H7YWnzHRXnmsu/SFnT3kMxKaRGk2+u2rboPcEtjzv6P8yZbKJTqb2i\n",
       "5X3K/oZFjXHBgkNpf6nIXapUiVg2FrJyV699PT9kmB+LWlgH0RdoH7OyLWgwaVMs/Xeu2bvlXvIM\n",
       "V0VY5VQh+caaJXj9vmtRD5KzoM85wKd8HekWNXuy8nsXadNAl5yCxr6G/hDkBDvNFnN35O7dOkmk\n",
       "JNOI/FNoUe0FLnM5gqC+Hl3ckZ2cDDz2rjTdiLXTOqDe/mxKRiNSPj9xdqLXoMjyJXpOxJCTPulr\n",
       "u1w3+y0EFW+WKTHNG6SnIIFExYAQPN/4Bu0WeXByKojkIOWlAD9Ys6dprpkrTolBe+w/WbGjBsCR\n",
       "+3Lh/EjGz8DnWlJLY9UAFj1KL6x3BYpeEs7bkhL+F9IwlmTWoskNhDHsAjWc6ZMdfsd21P3FftQB\n",
       "jQdVyumqXUncVvMLG1px/31TGVpH0MHUggufsP+XiZfgJGcoDTu54DqLu01xhbrRFCeyYh+TU/h/\n",
       "8QRhm9BaIEWK278lwfd579yC8Dd6ZKDkA7fhM3bXwSSuZdbcc7CtMKwd7ZNHdh15I+htgafE+HPV\n",
       "INdmXXdfdd15duYkvgG82pEqmgYki7KVaL1Y+P4vCbee1Z2YJQ7fOlVyGSKStEcvagS1Q+0J8V04\n",
       "INRtYCDX+2g+70YDTcU2oC/BaXRML7zVaqBa49fUlpClasAZvJyoYRSiO1S852YTt8bLvkd6UXxY\n",
       "PZWlzpsh0cv9pNmVifi7bYoa6BLWlOfG1G5bAfqAWpU8u8f4nkPB5Bxkwkp5kAEGLjOXpdfDdZg3\n",
       "Vc09kf3Zt0yVnKVgxooHzhkrVzE3t8c8sLKLKWq4uCHlZ/Xa6PXa3d3WqHm2Qe32Ve7uDT6S8ocM\n",
       "W4gbhUnyA3nVnPpmzHWKyWaBpXsQIlWkRDakLaCbpjZMUwM3lwNYsbajfnXflgoJra7q7GuDHdqO\n",
       "HghkBk9E6fNoW2xCJoc8lwrv1fNZq1l0L+etk72JJtG0rFOMllP7aro7qLKHYJy+fcWQrSIEI9jN\n",
       "wdxcdY9YdQeINw7gw1QY79IuXKW2tePNSNTRm3BL1QkoQW/sQrobuGi0SpAruwHpCx91K7NBpPcI\n",
       "jGFfm0dUwMFRz3YCbUux9Nfpss4Cizw909KmefhOVuoheK7d8hBvalZAVqtkKtW422QkZ8ft49Zj\n",
       "FXfTqC2rWkDCE+k9qoXVoDU0Gdh7hIFDhmGmoGEuipUKFcuNiTMHp1p8+Kd6uqxnTQpFDAxBHwNu\n",
       "PKyULFZeaVQoq0ENVr49fLrtCRchOuYNOaxLVvstkvbVi+3BpRgqi0pYmac7Q7ayKv72GX+ztEFT\n",
       "76jN80ntJBk7c8mcmomMjAn9EWdSxwOsKxH3YhYQebz0YZF2GKDsHiInucE+kMBXZrrtSWXKYilu\n",
       "+HXbkGhUn8V2YncsPjWTY/B8KTlX25sRYg7AfnSgciJtvPzlKSvR7C4GgCGpcN+B9RoD9wAZDG7f\n",
       "rRusU5ydzNarZPOn+MffAlonHSPXWM8EzSdDKJ4pA7hA0OjomxVeF1LzzWPL6lT+xzNnzg+0gK7Q\n",
       "CPKbZiOP+c6jTep/q4InCFI3TQjqnDzJnOWCPuqaqVHLIqhvruqugVLGNMzJSIedHSykDZtU0qcm\n",
       "exU/lpqQ9F1Gp8mK/JkGcW0zyHg0JNd0l4SGpWUzmDjyHijIEenDbnowmXKkL1Majemu4+qega9l\n",
       "D38WPc2O6SO99kqoVjdHaLNg/zjQ6I0oTmVmhO9VH+YqZlRo065VLlCDo52IFtcI9yoS/dIhdyLW\n",
       "1YsbH4dinYbU7MdAgvOB1FTofkoSegHrxKsRF0j8acsHA11IllG0pENvqlw1+qqMYW9w6DqIO4h+\n",
       "8MM+r8wYBGBHaPbYgtJl8t+brF9d+wQ1w4/sUPt4oUClZUfWpih8JxFqejIKDhp0cZCiGCQOsX5A\n",
       "ZUGBBm06jU+gQlwnt/LFPxYOFcxltK+ZlkCtKtqSHsd1uq4vFubo5gVGibCz5srY6Qia4XJPXu9v\n",
       "6FcHvp5K3Z7+NWClSCOy5yzKXhEr/qtphfp4/dzIE7xG0vjwwA/NgW/txs7lqo/wUPeU5N9YW0pp\n",
       "j02vPaonvDuR8auBkoUGqin8zXhPDSwKcFlw+bQQsHZppako+RZrGna5aMgmeiFD2/vxJnX/tHiD\n",
       "CHhhvWJ24OhoqWk7wdHY5lrtipmD9BUiGqQla0+6prU61AXi3wU8QPz7lHN2zFfdFhSaODJgXWHH\n",
       "+9L7vPgmk/VHtayc0Lzen83wd7oUQ3FXmP3H+BFJ+SrK35sxDL0fcKwMoFWurES57QK67IJkK+wy\n",
       "PRiAjAqywheDG0xX/gJ9vkH6kAobtPG2U6GkcOuO/7wQDoShlx1TTG1hMccaUD/BuYvrX494DMyO\n",
       "1tL0JSuye8LrU91JDcAZJNpLIAxi8tR7dmfDVikDK/oqtoHesLZ7FhxFx3sScMmr7T2v1igVHKVu\n",
       "6fItWghOUIal5+HZ/XYFFSuB1q98xfwi25pRK4KA6Yz5eQX34UNPEUmOhzIJjrCtrrypKLI3jrQS\n",
       "KLg2j9WPbzf49ek0RwtQT3uEnkCcHb0zMvF7Q8USXY8kUT46wYuGkRyHoM2+47dpkqQJI2rl9g/G\n",
       "Z2I2YduVP29uq6Gq8hFVqUX78xgVrAQwBjIm8bzWGwIsUy+17zodt/wcfHuGoXvmKjXB5wIjI3lR\n",
       "TnfA++yNSCFYS876fZtVsUmrVx77okjqvidumCOxWtSNmwL10VeoSATorf9TuEFJgqedJS9xUa8B\n",
       "WyIbOnxdZSVCckXWd0XoeQwy0GNOmCd1UIo7aBOQrpVqcfPua/A4YXDI+CCI8Gelf9VV5GdmKoU8\n",
       "Thp1d9TYKIeCXgKYwShmHlVMOt62dbGj5U0b4veuNPGH9nv3ug/b0N9FHqVW9YxyFbLtI4Qdnq+f\n",
       "gud/MYFESrzNKt/opZNVsjNM6YFB6eQ6Q3MfmGYulXmQ3j0gYmH1tLIOFMFxiLhMx15mIiAtwcXV\n",
       "jwpzfMSn2j7aVn1oMPR62NKWKzVunwgMfjAjUy8G6+1leeZnzqzsurmIQj47ZN8EYGh1zxFRpAUY\n",
       "r8pTVc7VeEzBVcsfvaI7ydscHQ4nce30LpPQswdUO5ROEfFRY9zziKmvOwaRYskQNd/0nQp6TvQW\n",
       "GaJX0F01jCZlb2ZdNLO3iOfSERwa0QPln8IgyuXGRbwlWgE0Rf/9Pyn1H/DhYegdPaJZH+GBsDZ0\n",
       "548r4Tm20ZU05PY6EPe42bg8NWQWVLIVGlquwwHVd91Bq6EW/4dC03rX4N1wvXO7ZjytcuZVxNU9\n",
       "BoMM7FNeOtE4jBLPWpgoAGX79vcx70XIflpgi0sXHBhKE4NQHjeYXFjKgT0ANTlzhr/qU+vbNXwA\n",
       "qQxmCaYsx7rDheAKS3ufENvc3vFP5l+SCp4YrG0V539rTPaQcvROU2nBPFUb/iBCjQznFyF5K94k\n",
       "9xAAr4qLfyaRMSP311vG+9qmwKu92bioukzPzU4MsJlLrNtqX5FChHbwMN8lZGMaPnrV9Y4Q1dke\n",
       "H2+f+Z3bCKn06IIzW2ikfK6aGlpwjT2sNa9BEGEjrVB4NQj9QH2YL5DC90F4B52fmKSAC24p0IHn\n",
       "br0b0I7ChqfLQw2mi9UPwyB+0ve7daNbqhZueApefsMoe7yIc/Mq/WSahups2jPoETQ9YtAx5zky\n",
       "yUFUA/th82AGZ/2jNcbT2WIHy2rjCVzXI9oA5lVoy+2GJAPTfnwWu04FBNP0ldV3+f47yc8M0I3X\n",
       "9BZz8z4V/gnzQB8l/n+dFsnjvsEIg57h/OmCQhtaPhn0EVl5pPbye2Ff24dsFR9HAXk+0oQG7DnB\n",
       "N6Wyk3CC6EDSP/i40UTytSjDui+0Alu+a45Mz1Nvp1195TIvzoZQ5ioKj5XcUiHaKjyssND+fYPi\n",
       "FsdqP46WBfJLS8mSDITcwGl1fzKf7eqtpbAVeeQWf1IBbtTmfOM+1QNd29v4imUhGoklQoGi+xIz\n",
       "ASoLJY/QO8RxfqDfkSUyH4Wt4RVHfySlm7YGis/BgOQGIVciuKK5jfeai9NPyYh45WhswS5Qlztt\n",
       "yoB3gZYIvU9bauCc7JMTTV7IFrtuYSpnnp0XsXKxM9fZdSjGXXA58ataqqGPdzIkIGIeFXPsQWY9\n",
       "PRTpqU/3OXwhaQh38TLH2RCCnngUuRvyi0Qari9iD/9cj/+LzCrUKBENpkJLMUKKRyQxmDk5yl0n\n",
       "cXgtptItfKHIaME0UPaLF6WyHnDmg9o8w82p9TUYDjg7XRiKDzEiSC56JB400egMC3nN4zL/GXP/\n",
       "PoYonhVqACkU5/s4gFhst1uszCR3DxSOmjAnP/HFHXm6i4zVYcmjifRZnS9Rn4KfBXMIR6+GvGuQ\n",
       "k2Xl2ri3xoAZu5uEQR8PNvVnd+4qCSszyJmOBfDXUX0Ic5mxrzXTKesjFEtW9upS1o6l+UKD/eC7\n",
       "7jvuokyDyhop9znhdIHF6nXDUzX5DW+ldrv4BWa2X8CI+48Iu6aohVuPwDxTJB9D/vebS+3fHTQq\n",
       "vWWEpEFwQXdRTKm1o1R+uJWJ4obc51ppuaaYMCs9VR8SJ2IZfqfGA0brVSg5wDuDbGcuxeZYN7ci\n",
       "0NFJhKKQbqbmzk/wr9kwK2jldTcyqhQj8MTJl53V05WVUeHsIusxgQzLoG2W+OZVJxi646w56po9\n",
       "pa9fCcAV9P9m+Lhpk/enVUy5Pf9GvHkRoNm/CX8F/iWWmOoJsYRdYNYTQ4RMr2CRM9J8570c4fYC\n",
       "98/Viabb8DHazv9B5Cum7+C4s8mZQAEnspzVXDj597UMcB2DvjOmbdGycOLv0Q9aUBaZ3xtDJn61\n",
       "sCs+AiaOu5Rh0GvSql99ihE0CwXYb4AVSeeu0jVwJWEAatc8U0dVZK/Bps/Gv6oX/opiunmdyG+n\n",
       "rniu7JCpzZ0mn3sy38RYSpzlimgMRia2AMPlrwWpX6HV89uaoa4TKqf6eKEJvXy3Y7yi7JLGUnB/\n",
       "oER9O+PGuBqPJMtys83u0ObVN7yRS/S8tChSPCHCRVjTUWrGshenZDtlfBw6WRPZ21fBgWsnPZ8n\n",
       "u6RrQW0lMa4Ik/pmNJwJr0LdxVaLrV7zP8h3XOK/3/8Hw4bJqoZCoiZbEyGSvKuLXgSSi3nMwuHB\n",
       "1WuRmDcoyh+YPTG4+n58T4yD+pfPXPjR8kp0enkgLBwen6bGiQvHgUqb1fwA1VZtvNwRFkECebnY\n",
       "KPdiESBEIc6dU96ZHEkmaPFErK76GF62wxoKaXgG08tT2nfQvnJTI6Aqp51zdEoVfYbdlb1jRgOZ\n",
       "V/hdzdHfdrFBfTWoEu2yBNNwXOTQqfv8ZY346XNc511LcmSPEuwYXYKVwie0Lz1ipvsUSHWmGSqy\n",
       "I89v9movDykcsurSUshaaSrkKdOA/XzLJttOaq6t4Tc9qGWZZk0YTIkEyFYmgjaQMqyIZMyqPi0Y\n",
       "xpjysKqNGn2cOjk8s0AwKfXFYi42HhkfIlswnBg7WavKpfJ89c14iDuOVZ9rS4jBKWpiVeCKCQgK\n",
       "6EAwmwFzdCIXicijosOnPd9CKeIB4cISEQoHMN+CRmtXrtfTRSYD3080mzzN+02eaWc/jKBma6Uu\n",
       "nvqYndyuq00QiV1JNGPx95iEBWfQtuesU7NLTqBC0gX7Q9puZxq8H270ibvSMgyenYHhjm+MGFPf\n",
       "jgEEFf8Wp7I3heG9eoM9BWIRTzmmLOq9f2homMJyRK1WHYd6FlFUzCgxTfrCm7h1N28C+rk2t+Fx\n",
       "wa5gZZea90ZzwLRAhEEKS91757d15zldYE79h8VimhXsgtcYCHK7o3IYDXBnL0Pyzxkb6zIIMHQp\n",
       "vKGBPKinaDLoKUBoj58kI2P5WgQ2IvU/+2ZqhK7lkGbnsfSRepo3qUnDZVw4EYUHyiUd8enANDLM\n",
       "SNel4cq/yVn2Ny1dMWb8f2+B3P6JVvJCs3zFzvEE+Ls91HNhVMC3P06UIvouG4Cdme/0lrGC+oPD\n",
       "PdBaS/Wf6BvmhgIa1JbpjZta85MCIS6olUo//IylzSESZd2GUn4iEIuMZOFWHbvc+ZZmym2rsWwY\n",
       "2HEphkBZQ2eT7xBi/fvPYX/KcfhssS+vGFDOmPoIa++oRyJgn1nX4MzaTAtORU/U5kClKgt3bIvm\n",
       "9X6l52GpEpwfqriachDS2LhcfZLFew+mi6TEi51lZcIbWfvyLyTiiGkjZKsHdtlEAeR3PjvWYBzy\n",
       "KWge2FhGNnolCzr2lpNOd3KnEuql7fB7j3NtyH8PBetSswZJrBfuLaqGcjZtAXEfs3fWkkchm+La\n",
       "3qA/tZg59D6xVD0kYXCSKGll72X/bsCGjnbmEXCbzgoCxChrkvexy6gmb2tkr82eUg3ryQFepID4\n",
       "bvw3/dTp75xD3jPwo7KEvAOlQy9MkuKXZRs0VGJGxJzUTI2kVHCH2tN5V1l3/vOuySMNCSZ0YPTM\n",
       "wFod/fD8nBc1pxOa2TnpeX+JI5uBRNBm+l0eE1BeC41+G2AzcImwb3flz0msonyU84USvUXwkUX+\n",
       "K3K5Vcd2Z3cvhae9Mo/obr9cMEn9fZLVvs7sqvPrx7YIKEW0kskjS5uOYyLtlQ+QXv1sAhUnH3po\n",
       "l0EM4Yums2hBwOfCpyR2wUAGfuJI2hz5MI7fmvUDD0KOYxU0dKpknak59ekvhGvMuMRDqixTLMBN\n",
       "a5QS1Nt3YnIYlGQPY3T+bw+JBtzlmySMqmvh5lETVxeRQ2+gRynx2CwZ+qHyK4VLZeiKUgTKkaed\n",
       "mJRKW+OGWhp97N/AuQZO8BOqQMAwRwEg44EBgdv6BjnwQmH91LcwT/6ofeY3eg4+yDSXLF4zvbo4\n",
       "L8f5HRrShKIVReX07QD9ocGjMDI+rTtaXoKEB62hBNJq+veLD1+ZYs1lwNoCFyZkE4BSix5Elqat\n",
       "cUDzexHubTTxfhxU4X1jhoz+MIReSvZE55MvScnz73FX6ByOCJbIYsV83GIC5ECLHrmTZf/sqmV8\n",
       "SsYg0LZgL9Ye8et2k0W3arbwD05KWDyCjhCnp+ypgvjdy0aZg0fvhWQfRsW6QnTLMMxC2aL9ru+1\n",
       "AN8L4GlSfMoLgWRJd9cleuxabdd6HgYLtCIpbrqPQQIwFKwTk/o68EGwUGPSMEXa5qzCKb98aUvT\n",
       "DfkpyNUwcaPvTvNwDYeX4bXMwknf2ZTFQuOAcmvl/6vwkynAp9Rlf/8zQi2FxKVgBVIRvShWfaXO\n",
       "p9fJHiogNvCah8FBnuwtsL0/8JfGLQoX2+5HV/bRDS3Tc/fKLi0W8AXlChj3Q0G53lB/zMX/WTv/\n",
       "z3QvbIwrWcO8W7rllgraqHJrdSf9J2+YcWenK9e+iK+Pi7Hg+kO/sv5kfpMrKmIqlk+HZ2A3JQv3\n",
       "+cCb3euRXnZpwKWC03kbapy8QlH8izz6c4CUwGwBXwTlAEps+9rsyQOq08an0TKJAfUDo4FM8NbE\n",
       "cbZsk8EUDIhfSD0XisK9/JWkb6BM96SUPShMw8NN46Bor7rYnM0PHE4QRm7ZgTqau+U9QHszmsv5\n",
       "0BRxnxR12AquMIvLwy76LpJ6k5Eatg+EilLP5rS20qB2wAp9z1vwFClX8RMbP4UtM4SiY2t/uHI7\n",
       "DeCugiVT2cET2pBSX6z3YWAIuH9JufjlPsP1vUgRESMAwWkl6eTb+yM5lCm4zRqKjMI5Pp/idEXa\n",
       "nZxU5swVdaiec1y405wRauYwHbrgIoCCBKLhT9rIxrBrKAVBmIiXJpRuL/8jpc+aEG+G4AQNr7H+\n",
       "rlmIEScMI7CbCjqubJY8du2encgdjXjI1yqoR7tOfNlDmuMJ8Sbq/uguN3IgUkL+8MKW12Pc5Rp7\n",
       "V1j/bD6gAOvMtmsJVlX/PW+yg7MxeIts8rNwQb0hBU6AN7viylXtGreB96Sd+QYvUiRe+rEwxhsf\n",
       "RorgQZ4x3LfHSLcTtSiAE16z9/qvS2hLhZnf1IaPD38DuZiRa1UM4IL+CWdznJPjdJLGigREoPTr\n",
       "KgQVg4Xp2Xq2A+iUvlwfGYgpZdMQY3ZLPq/r7mkYMCythgGk4hPfjnN+YwGwxWo9yQ4cJNAVj6CY\n",
       "6OQDEF1iP4Quez8DHl3GYT8RHD4VuQvb/evYPco3POnUODCU25GzxOL+vf9czw5ghj6/Xr/1uGK7\n",
       "M8pEtARJL84M/kq/anFh8zogcm0QVa9uJC+V9zkRAk3PkMQoh/gyFHxMGMSTCXT6suj51GX5pU7u\n",
       "REWJEPl2hcFr6XzmnfY/x3vtSb42WywzWkbNPfWhj3jIG+TaK+E7HVjqLArJutoEAe98wS7WmOrT\n",
       "GsfpLo5yOYd7Lwg1c09P9dL1lHpHVZrJbfIyf9yT/+kyKKclbkapZ81/OCs0CCbGcckzy32hSEDf\n",
       "d3ABQZ06E00fKnMCLcxf18DCdbXQtplCR3sZpP9TiS6PtvoOx072bWG7yZCo4gCw4CJqaoOQ+/8C\n",
       "+7+aL05uZDA6ecakeP9bjG86ZeASuJki1z+3ly+HwExv0EUXcW1gzrYsqf8beHWKK2AFcAw/zQ//\n",
       "2lY0hT7rGqdw/mcEBVMSlHj2eX6iifUbx3+2Q20NSoYZABYU+GIGtJ2kW+1ahqehkKFYYlWfYFWV\n",
       "trMvH1FwHLuocMI8SP/4QLkd7H7sc6rSXP/GwNVEPcBnvYtZLIG3W7QtXF35GFpmh19qWxB4GOFt\n",
       "mUORZPh0d7pcDQAmSj+6Bh7rH+JnTLE9WvU6FFh6Z4pJScPjoL4NrMs7+dE6fbQjq/+kaESpjCp9\n",
       "345lf6/qxK3iBGODjahEK0xMvah8TDkg9drRNfVLJKexmVsX0U8fVJZSvySZAVyI/Ql1//qX8xbi\n",
       "56zPKGcNdtPnZiyBrj4Fp/NRUG4Cgy6tLavbDIWpMj6n3NlVacsUIMib3+wrewjmFsdnHujcPBLA\n",
       "cOt7bkjaRv5NKxc2Gqhpf3PH4z7qdzSP2IDqSKx+FGnATgoPT+6q3N3l/qbGpznxupKP1AxAEDbf\n",
       "IyA2Io1r1DyOYQf7hmbH9c5s1/hkOtRbDki2ThW0/qE5L4tQsBfEpjosxlZ4fruYOsmCPYA2Vj8a\n",
       "yudxin+amcYYD1fP8emLEqLkaiFrnihB2VVsr5dzzoO7+R3SwJziOtIAVd6C3EAsu4md6XUUKUHn\n",
       "kKKZHDjmWeEmr/9ex+meVpBo232xhl2Y7pVDPwYJiU3bqM2OQlT+eba6S0WJSFEYNk3A7mILkmim\n",
       "+U+z6E3yz06ceAOBr3qMDH2L5GzhBDIYeCyF//RBj4r34/Z42R8eqRQgiyEe4v4ZlAQuzDbQbvZm\n",
       "5hX/mpTGl08YurJHDe0WM8vZXBytjZG7LAAPkikzfdjBeOEQg1hi+oY9fQvRXyyj9U6k9SF0HyHi\n",
       "WsEcWJqeCVEQ6xnfDoZLlKEzixMa9cKtLqM/u0248xP0hCqWcSDWZrKh2Pv1KTxJqhfeAlmEKTIk\n",
       "QI7bzYfuDr09jS8q/Bu8UAm+KCgwA+DOyT1n2NFfHOsRIM6RFBXG4M9seVgg7Q27iGCtr8tufbZO\n",
       "TLuE7CTpZ71h/12F3X9z3N17kfWFc0x4JW2Y++qlabXwl4r8N4EkM5BnTPMHaQ6mYF/xdCmiPx9H\n",
       "uIvdey1BNSl9k+tEUdwHABEhJXhGxv/TpTCrDqu4loXjkIhwvQbi/8H53Xh9fQz9qG7fjlJJ2YQE\n",
       "xgR7qHPN8xjN+gLgQCj4SVWaZzOikqPK6g1U1VH6bScJp2DmsAdnl1BvMNZHXMAXC5RY/y/tzjDP\n",
       "t2OzjoypD688Llqa4CCe1ApCnZqPGYg7p+H74nLKGRqHGUZ+FTbm+APZI5yrnRq7zgRMuSZTgx1t\n",
       "6N+iPiC6lKHoiOCpoTttXAUhZSmorbaE2jzW7/m+arMtGu6G2Vp1u090Lbha8YwRP2xjyBcOxTSf\n",
       "pf85utX8Tt0uPKgHtfrjvQXZwIgQHvrX0GHZdOh6zRO6Sktn7F8Aa/xvSE4wxVpyPP0uZwGXAyRc\n",
       "R4FZ8BGq1bMUeraXbP74JSl8lGggkQmeRIpoh8U7zo2fLyg257beT2cqgICsMFO1AM9/eZwLu6Sh\n",
       "4EvVoMKPsd1mwBncpqCYL18R4spq0+QE7kDTmGSbMKOpUHOeXfBSmBzAgj/nV12PBEXXI9ornQet\n",
       "6pWY1eke2pHsBUxlANrPpRytlLig718XwwVKRBjrisQzU9Pufnd8T/d/Xxuy387ep+3reH7tXID0\n",
       "WAN4qhVr2cqThVbm5WIPnYhlQzZyE+0cgeVGXDsewyaI/hDX1KVH3+Nwig6wITkqA54IyDDnf3pY\n",
       "NAVwai20kcL+BUeDfly+VxNIbolLKijK0avgN46BR4ai29y21i0OEx5QAPBQTf+XigI3aKBiB/a8\n",
       "is53z2ah1FfVk/gOVHQEJOMkrg0RlEJFOC0Mwfu9Xp7JEvi2onkL7W3+39w8mwyCe0uMxEbP0AYB\n",
       "CaxF+1e3hV/UqSONczqghFOGp4+PiEq+8Har8Vg13Rq+P7WYSowHOVEvwjYSgEunYdJdL+F1qWly\n",
       "1sGmo+L+vovmkoiSNVQT5OG02dDtl/cdSvGO39YdookGOexG4xJyp7o7CZPmHEylW529+oYe3DXo\n",
       "hd6PVuBNphfH4DuQe1gIeaTvIvKNUIo1cwheN2G5TIzKjVgqIXlor/63p4BH57FpBEMlxwRgn+M5\n",
       "gq606H7Wx9B9gXSW+fh5oqLvFw29+B0kUCHSKBTMVueMHWA+2/E3KcCZlvn2EsRWB4YzOiz4zi2t\n",
       "/uQN09BKsRHQdpu0nhseRkSzv4DVYm8GwteXLNJnO1vjOh2NdnlNuGeSpbUJr6Jm6Xh5XGw4DhDp\n",
       "F/wdmq+de/cEbBopvPlwGeNpCbLIgdtq3q+o66zPP3MBaX7/WWbTKMAInYq4UgJu4aAdkuOsNuJu\n",
       "UqysIuAdFUdqDYCOz6tAyDbDjwbAkBZQfXaJK6VOKSOpRnhWX3ju07+Ec+UbVgh1d7s/eWhkFqlS\n",
       "Rrs7yRgR8c95TS1nn5AoCWelJLpCNEffoltEdkG+bobubgEuM8vvkus5IDCqYw/szmr/J5Rt/qnq\n",
       "3LED7ZSX2H2uQHU4uCZ1aYNf16hT9iTonZ+KXGRulG1SW84qQ8jLoyGGq5oPLPI3xN6MoMbiktBp\n",
       "2KWWxf9mYp8cUl2covB1Ws+jpKEtFt9ISzHn44/1yfOCsu0n0Qx3Ca+i/Znbzgda4Yc6i7Iw4gVe\n",
       "HW6f7N6cgV09Pc5TDLqXE5j1mq8rJgdBldimr/Do32aw4yWHGdYhMFR8fF+tGOkryPuRWPAse21z\n",
       "M5ZhkQXJUXhowodXpiE0gprst0kMaB16TOlzYLhHcTB1FiSFk1frH3EbRx/5H+L/gAyB9szhqg/+\n",
       "n7ClPmuwIHaJ0gmhfNMiZyV03g7KSbb17LfHyf/P5Z8/5eN+sf+LIrdXqMD3JDf5MdxU3J2fE9fW\n",
       "XOeQB2ixG1uzli9jf8Jdsre0UeTqikByr3WjrnXit9ds+GHbXa+zTIUcjBJerZE/VTyC36v8JqZz\n",
       "hqsQ93vSwV1xB5YU1NvVF22sWrzEiTPV2nlXKwfSNl0PadELTxZGv0ZLF1yqGFLxXjPXAnbkJkgA\n",
       "rhId00+XwY3hg6a3pua5FSgD4gETO0ABXuFkAeWPgQAAAwFBmiNsQr/+OEASxdZQA16hOG0UPYG7\n",
       "6Lj/Pau8LMbHC7W88NkGSPOxFNcRYpWnJCHRKsZoOvqdKk9PeFp2JkofS+z+aKwteaoNkGFgPypA\n",
       "SR/W6x94jwaMIve/yKOef+sMNX+4xxi7v/YzHd4R6unijN9yjoFrV6/YffGhtvf/lizok7PhUkvu\n",
       "A4Y6osfemcUwIPym7b+ZgbVCEnnlMGwYXwEXmfqYg4BRju54Qm1GpBHz+FwMRS4GdknRhronH2JG\n",
       "VHy8vw/7yK8XfTx2qDr5DfEe5KizF/I4f8jERXboOAbwSP4lm6BTTC+yfDhc5aKgH9mFt8ZXulRI\n",
       "lNM4qSmT5YQJqOJKP3p4+6VMpRDnejtblAgZkPGJPeu9SXbEidlOVWFfWM8DoMlIplg33e1wwU8Z\n",
       "bN80prLrYQfs5Lz9TG/oLPayilWhQ+CtZg7eFXWNQ4BiVvueKdGQt9o5vE0d2nWvi83s82dnYW7q\n",
       "gLynzURXGfaPxrhU8T/ttmybhCqgu8JG1p1xUmyTW+PS8lPYblko+KCJN/htnHnGRiVp0T1v3nrE\n",
       "g9J1X79atq+yRNHL6vKC33mpQhs1fnnpPz7jmRUb8XmRofUgW1/KxQxw9/hGNRIFTBabKdp4LHO7\n",
       "taf6JOCkgXuUyFLDYspEGIlReYOIGGr44ynRe5gI9mtKezPB4iEV0BNW0c162bQFe1VuG0clqo8E\n",
       "AacSQg48xbUG/KrcKypsjXw/9/Nu1TvtWGJr5AvPmVS+wvdJchb2ePXLyW+YaXTTxnVUZjAWUpCy\n",
       "16bHp4fV+QRdEn6R1zgDvtjmDUVkxWh8EYA1jSrFmPUEGCJedxHygV8nMw6NDSSAWnD+6S6sads1\n",
       "HbkcqyYP8i28uCvFD9PwIil+C2dVD7jVRX1Q3qJsl5ndeRBb+qRdc5z1PwGkcI6k+zFsh8ExkPz7\n",
       "SR6T7jxHQZuVb1hSFphqRtljnDfu9lNZXKLyXeQ/qUW8xiA0n6EOK4MbEC/OI+JbXnahvd5xiKKT\n",
       "GKVDSC9gAAAAYkGeQXiEfwGSJqxRRrSFr0Go8tEP9FI3MigW6H7iSi4TRcwEKG2VL+/cn28NY1ij\n",
       "QTFufZnq8f8fiKE5uaG5GIEMpc4tIAWukWceXnIdoJvXufIb5c9clr6mkehmosfQAoEdAAAAMwGe\n",
       "YmpH/wTT5DRhlZ5ciSPJIv3AptkArocos1rsZXdiQALXNG+BMQj+QrOl3UhxDT59pwAAALBBmmRJ\n",
       "qEFomUwIX//+jLAHbIodF1qNZYAXwSvse7dGuVe0o9j3m0lKRYENpbV6tazI564NGOj6539uzPOj\n",
       "XQR7wnqjOQrYriId7HwNBI7rk//jOqwAQvVvFiU1uI22vcqCZm83UGqgc5U9HwR5xeoquWpmCw/r\n",
       "YyotI61v+kpCO5nFteWOqLYAk2MrdzcQgwCJhAbyXipVo1adDlwHI7Eg3WICWLS80x7AFWQeIxk2\n",
       "4QAAAI9BmodJ4QpSZTAhX/44QAbv1IwdnUmT7SvAQHzEyab4vgG0n+lXgxTTVY3c4fHo4Wa4liPq\n",
       "kwBvLLErT2qXDJ5ypbA/1d4qJcoGE8mh/Os75XpvHhSY7P3XFTm9G+n5bazqMxHD7yAkQXyatm9F\n",
       "fk0StO5uUHJIwfhTPiQTVA4g79ilw3AXW/o5X4pJJWUY+QAAACVBnqVFNEwj/wCSwR4PMKYQibLW\n",
       "3G5z27mrYEKAzA3ZanDloDn1AAAAIQGexmpH/wCfZuphxx+dR1T9OYABKfspL8NjbUHLfRctBwAA\n",
       "AEFBmshJqEFomUwIV//+OEAAA3fqR1rgIbQCDyJbkIYXEyu9zWBYCugNUMJk3Ec/dTaUUzQCPz8n\n",
       "6xJ3ojH5HdxUgAAAAEBBmulJ4QpSZTAhf/6MsAAAzwOjArkAQPf/3Tf3HPsWlcFsu5nb/g44J0vZ\n",
       "MbruNM13hGGXJmuT7R/A31LIOb9gAAAAdkGbDUnhDomUwIV//jhAAAZFjjoCCNT0zPmvj/svChsy\n",
       "8qIIULaCvUXWYdOdpxlU1g6jnK0CVTeiOZDtXssdCkNQHeJCGLpcM1uTOVx/dITE99/YmgK8ydY8\n",
       "YPBlFJ4Bh7afWZY9+SNPVUUYn1gqGUY1N7C90QMAAAAmQZ8rRRE8I/8AZK+gRiLdnA5877i3I4AD\n",
       "jdycpNR27U+gthGQXRAAAAAdAZ9KdEf/AJ8L10/1FO1Dv/SUwAHvoY2m8zrzG8AAAAAaAZ9Makf/\n",
       "AJ9m6mHHGO6cAC4n0hEiGUd+yXkAAABHQZtOSahBaJlMCFf//jhAAAZFjjoDI0WceE5gBVMt2dTn\n",
       "urQOk3oiS+uRSwnZ3qEpjOfmqzcXQb1e+GmTLbN7FefztFgh8bEAAABTQZtvSeEKUmUwIX/+jLAA\n",
       "AZSFM+AF5mp/cTd4nk2u5mok3xwIaXH6kXw/N9Jwia4+1glPb0aVZdQC8C+2IoTTg8Pa722k+j1C\n",
       "pdjW0hPyOH6EMnEAAABxQZuTSeEOiZTAhX/+OEAADDfhqJFaMX6AWskUY7KwpNKJOF+ih7T1ET/f\n",
       "A6JGWXO/ThizyMjAOpNNhYty7Qhx/B4dTTF+oUTm9V4bGtUKDzSG1LlmhoXgSguMien142ha5O7g\n",
       "QX5Fv2c8qYHqYhalRDQAAAAnQZ+xRRE8I/8AZK+gRiLdnA75oaAASyKocOEL/06tpvn4JM8GfaKW\n",
       "AAAAIgGf0HRH/wCfC9dP9aYoRwh0q6AAlnj/mheHa48XWPrb9TUAAAAkAZ/Sakf/AJ9m6mHHakJa\n",
       "FVO74AJXxKZ+j7H/a+MFonDwozqsAAAAYUGb1EmoQWiZTAhf//6MsAADKO7bANG1wQvI/Ge5BkZm\n",
       "Bg5kqUrPmzRmtvuBHNuh0euD7ua4nRy3cJO2WdoViuwNEdwDy4r1vEN8AT8egtsEECXyoQE0BnrZ\n",
       "VxQd4VnGs8AAAABUQZv2SeEKUmUwURLC//6MsAADFQ0kABO6UTTlj31XzYemgxZ+2exII6lPCO4q\n",
       "ml1agk01IvSuBzmMRGOZVsXP1zuB15j6kFYrjrkd1Ha+0XNt3jFBAAAAEgGeFWpH/wAAGR+ktf4d\n",
       "Ni21GAAAAGBBmhpJ4Q6JlMCF//6MsAAGKd22AOGaxiSMkFgbWOEJFn5dZ554ZmH7kdepcwKju/0m\n",
       "4cGx9LhK5L2mzFHTJ2ezFwiIEn+Xnvnapjgiwe+GtLnrsk8SSZdlNYnSM9pyZNsAAAApQZ44RRU8\n",
       "I/8AAe7HYuw94AW4L3vLP7+pnUVVgIR2tijl/ZfMThSQGEEAAAAXAZ5XdEf/AAMleZtxXrcjBgPS\n",
       "7YmkVYAAAAAgAZ5Zakf/AAMlNKIALoANnjJcdLZVGH31Hv0B6OYbCckAAABXQZpcSahBaJlMFPC/\n",
       "/oywAAYp94YBNfUmw0jvK1ngDih9v3SRqlsNqgLaq4lQejg/+owdzu97+wR5ECkOgZ94UlVWo+R0\n",
       "INbDImA70fm6QMm+w8ZhYgWAAAAAHgGee2pH/wADIKnbSACbWQ2QxoOqnbdXfz6jjclcGQAAAGJB\n",
       "mmBJ4QpSZTAhf/6MsAAGKfzeAE7nD7oPci2j6DZfTjIC8ZNHPmA0RQtu6dhRylUcTRdhJb4P8o6k\n",
       "jBmCKZ38TsbAlbaWKmW+uNLPUPqeLrRNw4kegPZuf/FYEn2a1zNZ8QAAACRBnp5FNEwj/wAB8QD+\n",
       "GwAskkGnPytbwMUKXqb2E5uY9hcccroAAAAUAZ69dEf/AAMRfB6VdkzflVLs8sAAAAAdAZ6/akf/\n",
       "AAMQXHsAE39YrGQeL2xdYa47zP53NNkAAAB9QZqkSahBaJlMCF///oywAAwDu2wMif73qfEeUjZN\n",
       "OWq+hwt9dUDRVZNOj3SgCP7rROVm5ZN2q2k88hlS9PGrnbY2KU0P6f04598YN/j4MjgyHGPCqY52\n",
       "VkSvQAct6PSI6T8/3IZB9DqzLpp/4HSzkidVO6yWV0F2yfzxaqAAAAAkQZ7CRREsI/8AA80PkZLu\n",
       "AAXF0mRAZhvrsaqxO39dTNDup44lAAAAFwGe4XRH/wADBYiFoHxe01uGt84GJYqwAAAAGgGe42pH\n",
       "/wAGH7RND/DybSTgrsouGMEO7eNNAAAAP0Ga5UmoQWyZTAhf//6MsAALtlOgAcsK1/m3RtMHnWD6\n",
       "KVFdNV7Qh3yF2rgfUqFljY/xU6QNEuYvov6KA+SXgQAAAE1BmwlJ4QpSZTAhf/6MsAALtm8MAcw9\n",
       "OEOY971PMmpPwaunCrGkbzyJUiemycm43HIcRj0g1229SN8eFihE/E2pSqBH0Wy4uMI6bwYpswAA\n",
       "ACdBnydFNEwj/wADs7iv0AG1kP6awTK4oCc60ZnYtX6rcEuYcYvMzQkAAAAcAZ9GdEf/AAXkEZrk\n",
       "gAmW8nhGZjfhgcwipuz5wAAAABoBn0hqR/8ABfFTtpABNwFumkb6WPHVSvZ84AAAAE5Bm01JqEFo\n",
       "mUwIX//+jLAAC7ZvDAJr6lCZbYMljIpOQbszyPK6gllKX/HJb6FxqoK3xfAD3KAkvA9wQn/oc22U\n",
       "iUh2I6o75f8TE2RmmzEAAAAXQZ9rRREsI/8AA7YEUWvR7m2vQ2jPdNAAAAAQAZ+KdEf/AAXT0ee4\n",
       "L/SEvgAAABABn4xqR/8ABdFArWUhygi/AAAAREGbj0moQWyZTBRML//+jLAAC26pnwBB6Lep93oP\n",
       "ND5jr1SocS9BiEIVN1W01JY8EhISLDsbP/FvIPm0fQfvn7yneGXdAAAAHAGfrmpH/wAFwC0vYAJ2\n",
       "3NACjx1sq8uX1Ob3ghEAAABsQZuySeEKUmUwIX/+jLAAFm6aAE581ApR6Dj1WKc6D8N3bQq/o4hL\n",
       "LLpzPviwKFPX+4G0JJzi/h+9B6nHLO34qlUrvxr/D+R3fbX0MTeHs7aVxtguryNyhFdCm9OFB6uI\n",
       "UU1OfSdhp6ivSu6AAAAAI0Gf0EU0TCP/AAcWJJSftAA2LrhQwjp40AvEfcpwo9eQYRDyAAAAGwGf\n",
       "8WpH/wALhEGSJMRcOABYuMjCnI3WnqBlQQAAAE1Bm/ZJqEFomUwIX//+jLAAFtxmQCp8aWll4zKq\n",
       "thjcqX7nbGfxAtjgkqlw4Wn7pTf/6vKv/79qJ/jVcEAp25hZ41SNzPquK+yJETTugAAAACJBnhRF\n",
       "ESwj/wAHQMeszVAD70r1YVjwXlzFOfuuwilVxzRgAAAAGgGeM3RH/wALhEGU40cCAFgTpsQIrjb2\n",
       "tcOZAAAADgGeNWpH/wALooBiixxsAAAANUGaN0moQWyZTAhf//6MsAAW3HbYKqPazhTmmD41gavm\n",
       "M1cX1hCKlCFMTV5jJb9sFvAMzRvRAAAAUEGaWknhClJlMCGf/p4QABasdpQKLWNUSjJZwIGN9+bx\n",
       "sPwveYPZIxMT61jBPfdE9TJcGHsJOZx0wZSK8Bb7sL5+NRva9oxCgj1S4g7Tz8alAAAAI0GeeEU0\n",
       "TCP/AAcWcASAEsipHEw7/noEOClWoQDPuyuA22JmAAAAGgGemWpH/wALUMu3HMALI3tajV7HNgG6\n",
       "4NpNAAAASUGankmoQWiZTAhn//6eEAAWF1CqOGZEkPo4ArRn7oUI/xqVTB4vOoJf9xgO0WWG/1jt\n",
       "0adY2C0VJCtDC5QFA2gcPLji6QLY01IAAAAjQZ68RREsI/8ABvvzs4MuAAugbUdEePPj4CDhBFO6\n",
       "i4cpPH8AAAAaAZ7bdEf/AAs2dRfBawAt4TUOane3n6xzmk0AAAAYAZ7dakf/AAtfAuYAH86DOKkN\n",
       "vq+60Nw0AAAASkGawkmoQWyZTAhn//6eEAAWwvKVQVuAUiG1ZqH3p8JP15mdzIlGrVhm8azZDjCW\n",
       "TMQ17nOGjVjgh8Ri7kv5uLnTzdhOvV3+TEvAAAAAFEGe4EUVLCP/AAdCI8vEkaPW1uLXAAAADAGf\n",
       "H3RH/wAA4kUygwAAAA8BnwFqR/8AC6Zc0J7KpC0AAAAsQZsGSahBbJlMCF///oywABbc7VgHz4U9\n",
       "p30MV6Yb61MScPZ0Wvm+fQiM0b0AAAAVQZ8kRRUsI/8ABz/6U7qCYCl+8X/BAAAADAGfQ3RH/wAA\n",
       "4kUygwAAAAwBn0VqR/8AAOLAAZsAAAAxQZtJSahBbJlMCGf//p4QABYdZ/uAKtwbR7xbqXw0P2vt\n",
       "QCvZtXd1+BQh0jo9p84k4QAAABRBn2dFFSwj/wAHFiPNRn85jn5KYAAAAAwBn4hqR/8AAOLAAZsA\n",
       "AABYQZuNSahBbJlMCF///oywABZa7kJ4AW2hnGSKr4V7mE7bVKGel3y3RwBKm1aFwFMW6SFjTHMW\n",
       "o2SFNJMS9O1EakW0vgsuM3as9+NuPff8/7yx13/cwzFHHQAAACBBn6tFFSwj/wAOAC3iFjAAnGqc\n",
       "P4r+i7JgIzQVAE5P8AAAABwBn8p0R/8AFniDsz5gAP3MxhScvaNsf/NDpqswAAAAEwGfzGpH/wAW\n",
       "eIOrZniD+HvPBZkAAABNQZvRSahBbJlMCF///oywACt5d2wBW/UkxOnHQiKT0mbCzAylHxIodf0X\n",
       "j4FC2f51+90NgtIpggdFzYDlkAi1Nc4kISCb1gH3XYFA64EAAAAhQZ/vRRUsI/8ADdTH+7LgCmBD\n",
       "jAmHORvW9MZ985QPvTfhAAAADwGeDnRH/wALDrDRXpCzQAAAABcBnhBqR/8AFjIIiaXABvWgLQ8e\n",
       "RY2+mAAAADZBmhVJqEFsmUwIX//+jLAAK4xZPjXAEOvJR0CHTBBZCr7pf5W5qS9VRQNkr/ME4FG4\n",
       "ygPkKSEAAAAfQZ4zRRUsI/8ADcgj+uABYd7YeVXD6Udf9X3rldr/gAAAABEBnlJ0R/8AFg56ha5O\n",
       "4qZGwAAAAA8BnlRqR/8AFhQeus/qMbEAAAAxQZpXSahBbJlMFEwv//6MsAAreU6ABFYnc9bOy9h5\n",
       "X6qbEH3AL264vxaTg4srvXQccAAAABABnnZqR/8AFeB85G7AxnwRAAAANUGae0nhClJlMCF//oyw\n",
       "ACt49aAA1U9sCvPrsjIas5Mr5hLtZ6W/kJd92qh+m3lW8Q/UGYg5AAAAI0GemUU0TCP/AA3AKFxn\n",
       "SAFgPzGoT4sVy6FhJhk/KK4E1xN4AAAAFQGeuHRH/wAWOY4AEg4hJ25RQ5+2aQAAABABnrpqR/8A\n",
       "FiTf3Eg99zmAAAAAOkGav0moQWiZTAhX//44QACn2eIAA0bOkZjQfPdUDn7Gtsk6m78JpSoBecY7\n",
       "yDyrNM6xvKo8XKMyMaEAAAAnQZ7dRREsI/8ADdt7wAsbCWdyeeqP9+CqBRABVTlTxMaPw9XEvl2B\n",
       "AAAAGAGe/HRH/wAWIgkwAtXP+SIfzMckdGupMAAAABcBnv5qR/8AFjmOAA+pTVDAGqWDj/y2LgAA\n",
       "AD1BmuNJqEFsmUwI//yEAAm3AFGSKwq7ACP9Kg4zonwiY6WWnfy5e08YtLqJumJMjue/QkGQL304\n",
       "BU+jQDehAAAAIkGfAUUVLCP/AA1a3JwAHBrTqvKm/+UsS/pfUGPVwnv5wVQAAAAZAZ8gdEf/ABWb\n",
       "6hQAheHZ2x8CcpzOTrKbYQAAABUBnyJqR/8AFYeQvcwoWZz63jW2+EgAAAembW9vdgAAAGxtdmhk\n",
       "AAAAAAAAAAAAAAAAAAAD6AAAB9AAAQAAAQAAAAAAAAAAAAAAAAEAAAAAAAAAAAAAAAAAAAABAAAA\n",
       "AAAAAAAAAAAAAABAAAAAAAAAAAAAAAAAAAAAAAAAAAAAAAAAAAAAAAAAAgAABtB0cmFrAAAAXHRr\n",
       "aGQAAAADAAAAAAAAAAAAAAABAAAAAAAAB9AAAAAAAAAAAAAAAAAAAAAAAAEAAAAAAAAAAAAAAAAA\n",
       "AAABAAAAAAAAAAAAAAAAAABAAAAAAbAAAAEgAAAAAAAkZWR0cwAAABxlbHN0AAAAAAAAAAEAAAfQ\n",
       "AAACAAABAAAAAAZIbWRpYQAAACBtZGhkAAAAAAAAAAAAAAAAAAAyAAAAZABVxAAAAAAALWhkbHIA\n",
       "AAAAAAAAAHZpZGUAAAAAAAAAAAAAAABWaWRlb0hhbmRsZXIAAAAF821pbmYAAAAUdm1oZAAAAAEA\n",
       "AAAAAAAAAAAAACRkaW5mAAAAHGRyZWYAAAAAAAAAAQAAAAx1cmwgAAAAAQAABbNzdGJsAAAAs3N0\n",
       "c2QAAAAAAAAAAQAAAKNhdmMxAAAAAAAAAAEAAAAAAAAAAAAAAAAAAAAAAbABIABIAAAASAAAAAAA\n",
       "AAABAAAAAAAAAAAAAAAAAAAAAAAAAAAAAAAAAAAAAAAAAAAAGP//AAAAMWF2Y0MBZAAe/+EAGGdk\n",
       "AB6s2UGwloQAAAMABAAAAwGQPFi2WAEABmjr48siwAAAABx1dWlka2hA8l8kT8W6OaUbzwMj8wAA\n",
       "AAAAAAAYc3R0cwAAAAAAAAABAAAAZAAAAQAAAAAUc3RzcwAAAAAAAAABAAAAAQAAAvhjdHRzAAAA\n",
       "AAAAAF0AAAABAAACAAAAAAEAAAQAAAAAAgAAAQAAAAABAAACAAAAAAEAAAQAAAAAAgAAAQAAAAAC\n",
       "AAACAAAAAAEAAAUAAAAAAQAAAgAAAAABAAAAAAAAAAEAAAEAAAAAAgAAAgAAAAABAAAFAAAAAAEA\n",
       "AAIAAAAAAQAAAAAAAAABAAABAAAAAAEAAAIAAAAAAQAAAwAAAAABAAABAAAAAAEAAAUAAAAAAQAA\n",
       "AgAAAAABAAAAAAAAAAEAAAEAAAAAAQAAAwAAAAABAAABAAAAAAEAAAUAAAAAAQAAAgAAAAABAAAA\n",
       "AAAAAAEAAAEAAAAAAQAABQAAAAABAAACAAAAAAEAAAAAAAAAAQAAAQAAAAABAAACAAAAAAEAAAUA\n",
       "AAAAAQAAAgAAAAABAAAAAAAAAAEAAAEAAAAAAQAABQAAAAABAAACAAAAAAEAAAAAAAAAAQAAAQAA\n",
       "AAABAAADAAAAAAEAAAEAAAAAAQAABAAAAAACAAABAAAAAAEAAAUAAAAAAQAAAgAAAAABAAAAAAAA\n",
       "AAEAAAEAAAAAAQAAAgAAAAABAAAEAAAAAAIAAAEAAAAAAQAABQAAAAABAAACAAAAAAEAAAAAAAAA\n",
       "AQAAAQAAAAABAAAFAAAAAAEAAAIAAAAAAQAAAAAAAAABAAABAAAAAAEAAAUAAAAAAQAAAgAAAAAB\n",
       "AAAAAAAAAAEAAAEAAAAAAQAABAAAAAACAAABAAAAAAEAAAUAAAAAAQAAAgAAAAABAAAAAAAAAAEA\n",
       "AAEAAAAAAQAABQAAAAABAAACAAAAAAEAAAAAAAAAAQAAAQAAAAABAAAFAAAAAAEAAAIAAAAAAQAA\n",
       "AAAAAAABAAABAAAAAAEAAAMAAAAAAQAAAQAAAAABAAAFAAAAAAEAAAIAAAAAAQAAAAAAAAABAAAB\n",
       "AAAAAAEAAAUAAAAAAQAAAgAAAAABAAAAAAAAAAEAAAEAAAAAAQAABQAAAAABAAACAAAAAAEAAAAA\n",
       "AAAAAQAAAQAAAAAcc3RzYwAAAAAAAAABAAAAAQAAAGQAAAABAAABpHN0c3oAAAAAAAAAAAAAAGQA\n",
       "ADS4AAADBQAAAGYAAAA3AAAAtAAAAJMAAAApAAAAJQAAAEUAAABEAAAAegAAACoAAAAhAAAAHgAA\n",
       "AEsAAABXAAAAdQAAACsAAAAmAAAAKAAAAGUAAABYAAAAFgAAAGQAAAAtAAAAGwAAACQAAABbAAAA\n",
       "IgAAAGYAAAAoAAAAGAAAACEAAACBAAAAKAAAABsAAAAeAAAAQwAAAFEAAAArAAAAIAAAAB4AAABS\n",
       "AAAAGwAAABQAAAAUAAAASAAAACAAAABwAAAAJwAAAB8AAABRAAAAJgAAAB4AAAASAAAAOQAAAFQA\n",
       "AAAnAAAAHgAAAE0AAAAnAAAAHgAAABwAAABOAAAAGAAAABAAAAATAAAAMAAAABkAAAAQAAAAEAAA\n",
       "ADUAAAAYAAAAEAAAAFwAAAAkAAAAIAAAABcAAABRAAAAJQAAABMAAAAbAAAAOgAAACMAAAAVAAAA\n",
       "EwAAADUAAAAUAAAAOQAAACcAAAAZAAAAFAAAAD4AAAArAAAAHAAAABsAAABBAAAAJgAAAB0AAAAZ\n",
       "AAAAFHN0Y28AAAAAAAAAAQAAACwAAABidWR0YQAAAFptZXRhAAAAAAAAACFoZGxyAAAAAAAAAABt\n",
       "ZGlyYXBwbAAAAAAAAAAAAAAAAC1pbHN0AAAAJal0b28AAAAdZGF0YQAAAAEAAAAATGF2ZjU4LjI5\n",
       "LjEwMA==\n",
       "\">\n",
       "  Your browser does not support the video tag.\n",
       "</video>"
      ]
     },
     "metadata": {},
     "output_type": "display_data"
    }
   ],
   "source": [
    "try:\n",
    "    display_html(HTML(anim.to_html5_video()))\n",
    "except (RuntimeError, KeyError):\n",
    "    # In case the build-in renderers are unaviable, fall back to\n",
    "    # a custom one, that doesn't require external libraries\n",
    "    anim.save(None, writer=matplotlib_utils.SimpleMovieWriter(0.001))"
   ]
  },
  {
   "cell_type": "code",
   "execution_count": null,
   "metadata": {},
   "outputs": [],
   "source": []
  }
 ],
 "metadata": {
  "kernelspec": {
   "display_name": "Python 3",
   "language": "python",
   "name": "python3"
  },
  "language_info": {
   "codemirror_mode": {
    "name": "ipython",
    "version": 3
   },
   "file_extension": ".py",
   "mimetype": "text/x-python",
   "name": "python",
   "nbconvert_exporter": "python",
   "pygments_lexer": "ipython3",
   "version": "3.7.7"
  }
 },
 "nbformat": 4,
 "nbformat_minor": 1
}
